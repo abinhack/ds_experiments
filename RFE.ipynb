{
  "nbformat": 4,
  "nbformat_minor": 0,
  "metadata": {
    "colab": {
      "name": "RFE.ipynb",
      "provenance": [],
      "collapsed_sections": [],
      "authorship_tag": "ABX9TyOzxdBrxPyJ6HMPqbM8lHr/",
      "include_colab_link": true
    },
    "kernelspec": {
      "name": "python3",
      "display_name": "Python 3"
    }
  },
  "cells": [
    {
      "cell_type": "markdown",
      "metadata": {
        "id": "view-in-github",
        "colab_type": "text"
      },
      "source": [
        "<a href=\"https://colab.research.google.com/github/abinhack/ds_experiments/blob/main/RFE.ipynb\" target=\"_parent\"><img src=\"https://colab.research.google.com/assets/colab-badge.svg\" alt=\"Open In Colab\"/></a>"
      ]
    },
    {
      "cell_type": "code",
      "metadata": {
        "id": "fV9UHAPLJyQ3"
      },
      "source": [
        "import pandas as pd"
      ],
      "execution_count": null,
      "outputs": []
    },
    {
      "cell_type": "code",
      "metadata": {
        "id": "Zs-fl8KgKGVe"
      },
      "source": [
        "from sklearn.datasets import load_iris\r\n",
        "data = load_iris()\r\n"
      ],
      "execution_count": 2,
      "outputs": []
    },
    {
      "cell_type": "code",
      "metadata": {
        "colab": {
          "base_uri": "https://localhost:8080/"
        },
        "id": "eupTnpeqKiy1",
        "outputId": "c3ec1d5e-2bbe-4047-bcab-96b00ed99cba"
      },
      "source": [
        "from sklearn.datasets import make_friedman1\r\n",
        "from sklearn.feature_selection import RFE\r\n",
        "from sklearn.svm import SVR\r\n",
        "X, y = make_friedman1(n_samples=50, n_features=10, random_state=0)\r\n",
        "estimator = SVR(kernel=\"linear\")\r\n",
        "selector = RFE(estimator, n_features_to_select=5, step=1)\r\n",
        "selector = selector.fit(X, y)\r\n",
        "selector.support_"
      ],
      "execution_count": 3,
      "outputs": [
        {
          "output_type": "execute_result",
          "data": {
            "text/plain": [
              "array([ True,  True,  True,  True,  True, False, False, False, False,\n",
              "       False])"
            ]
          },
          "metadata": {
            "tags": []
          },
          "execution_count": 3
        }
      ]
    },
    {
      "cell_type": "code",
      "metadata": {
        "colab": {
          "base_uri": "https://localhost:8080/"
        },
        "id": "UyJStIUOKpiS",
        "outputId": "7b95c21c-a7a8-4dc9-bd56-d994d21781b4"
      },
      "source": [
        "selector.ranking_"
      ],
      "execution_count": 4,
      "outputs": [
        {
          "output_type": "execute_result",
          "data": {
            "text/plain": [
              "array([1, 1, 1, 1, 1, 6, 4, 3, 2, 5])"
            ]
          },
          "metadata": {
            "tags": []
          },
          "execution_count": 4
        }
      ]
    }
  ]
}