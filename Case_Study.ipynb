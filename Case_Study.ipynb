{
  "nbformat": 4,
  "nbformat_minor": 0,
  "metadata": {
    "colab": {
      "name": "Case Study.ipynb",
      "provenance": [],
      "collapsed_sections": [],
      "authorship_tag": "ABX9TyOjGtp6JnO1zb+pRJZLEVX7",
      "include_colab_link": true
    },
    "kernelspec": {
      "name": "python3",
      "display_name": "Python 3"
    },
    "language_info": {
      "name": "python"
    }
  },
  "cells": [
    {
      "cell_type": "markdown",
      "metadata": {
        "id": "view-in-github",
        "colab_type": "text"
      },
      "source": [
        "<a href=\"https://colab.research.google.com/github/abinhack/ds_experiments/blob/main/Case_Study.ipynb\" target=\"_parent\"><img src=\"https://colab.research.google.com/assets/colab-badge.svg\" alt=\"Open In Colab\"/></a>"
      ]
    },
    {
      "cell_type": "code",
      "metadata": {
        "colab": {
          "base_uri": "https://localhost:8080/"
        },
        "id": "eHJRgFLZuRTk",
        "outputId": "fddf2b2a-d573-48a4-9274-c0223c1bde2f"
      },
      "source": [
        "from google.colab import drive\n",
        "drive.mount('/content/drive')"
      ],
      "execution_count": null,
      "outputs": [
        {
          "output_type": "stream",
          "text": [
            "Mounted at /content/drive\n"
          ],
          "name": "stdout"
        }
      ]
    },
    {
      "cell_type": "code",
      "metadata": {
        "id": "5pxU1H5Mtu6p"
      },
      "source": [
        "import pandas as pd\n",
        "import numpy as np\n",
        "import seaborn as sb\n"
      ],
      "execution_count": null,
      "outputs": []
    },
    {
      "cell_type": "code",
      "metadata": {
        "id": "4TKyXWNXuez3"
      },
      "source": [
        "\n",
        "input_data = pd.read_csv(\"drive/MyDrive/data.csv\")"
      ],
      "execution_count": null,
      "outputs": []
    },
    {
      "cell_type": "code",
      "metadata": {
        "colab": {
          "base_uri": "https://localhost:8080/"
        },
        "id": "UJ6JBRJIvH4p",
        "outputId": "ddf77a43-c3f2-46e3-c5b6-938a4ab4b8ad"
      },
      "source": [
        "\n",
        "input_data.columns"
      ],
      "execution_count": null,
      "outputs": [
        {
          "output_type": "execute_result",
          "data": {
            "text/plain": [
              "Index(['label', 'f1', 'f2', 'f3', 'f4', 'f5', 'f6', 'f7', 'f8', 'f9', 'f10',\n",
              "       'f11', 'f12', 'f13', 'f14', 'f15', 'f16', 'f17', 'f18', 'f19', 'f20',\n",
              "       'f21', 'f22', 'f23', 'f24', 'f25', 'f26', 'f27', 'f28'],\n",
              "      dtype='object')"
            ]
          },
          "metadata": {
            "tags": []
          },
          "execution_count": 10
        }
      ]
    },
    {
      "cell_type": "code",
      "metadata": {
        "colab": {
          "base_uri": "https://localhost:8080/",
          "height": 948
        },
        "id": "LFOXSq6H4LFR",
        "outputId": "ae7548a0-1e26-49f3-be0b-2ffed08f4ed8"
      },
      "source": [
        "input_data.desribe()"
      ],
      "execution_count": null,
      "outputs": [
        {
          "output_type": "execute_result",
          "data": {
            "text/html": [
              "<div>\n",
              "<style scoped>\n",
              "    .dataframe tbody tr th:only-of-type {\n",
              "        vertical-align: middle;\n",
              "    }\n",
              "\n",
              "    .dataframe tbody tr th {\n",
              "        vertical-align: top;\n",
              "    }\n",
              "\n",
              "    .dataframe thead th {\n",
              "        text-align: right;\n",
              "    }\n",
              "</style>\n",
              "<table border=\"1\" class=\"dataframe\">\n",
              "  <thead>\n",
              "    <tr style=\"text-align: right;\">\n",
              "      <th></th>\n",
              "      <th>count</th>\n",
              "      <th>mean</th>\n",
              "      <th>std</th>\n",
              "      <th>min</th>\n",
              "      <th>25%</th>\n",
              "      <th>50%</th>\n",
              "      <th>75%</th>\n",
              "      <th>max</th>\n",
              "    </tr>\n",
              "  </thead>\n",
              "  <tbody>\n",
              "    <tr>\n",
              "      <th>label</th>\n",
              "      <td>50000.0</td>\n",
              "      <td>2.684400e-01</td>\n",
              "      <td>0.443152</td>\n",
              "      <td>0.0</td>\n",
              "      <td>0.00</td>\n",
              "      <td>0.0</td>\n",
              "      <td>1.0</td>\n",
              "      <td>1.0</td>\n",
              "    </tr>\n",
              "    <tr>\n",
              "      <th>f1</th>\n",
              "      <td>50000.0</td>\n",
              "      <td>4.489459e+06</td>\n",
              "      <td>721162.091909</td>\n",
              "      <td>0.0</td>\n",
              "      <td>4123856.75</td>\n",
              "      <td>4627590.5</td>\n",
              "      <td>4992968.0</td>\n",
              "      <td>7126222.0</td>\n",
              "    </tr>\n",
              "    <tr>\n",
              "      <th>f2</th>\n",
              "      <td>50000.0</td>\n",
              "      <td>1.528918e+04</td>\n",
              "      <td>602282.866345</td>\n",
              "      <td>0.0</td>\n",
              "      <td>34.00</td>\n",
              "      <td>69.0</td>\n",
              "      <td>186.0</td>\n",
              "      <td>59764357.0</td>\n",
              "    </tr>\n",
              "    <tr>\n",
              "      <th>f3</th>\n",
              "      <td>50000.0</td>\n",
              "      <td>2.093005e+03</td>\n",
              "      <td>54547.546789</td>\n",
              "      <td>0.0</td>\n",
              "      <td>10.00</td>\n",
              "      <td>16.0</td>\n",
              "      <td>28.0</td>\n",
              "      <td>9613889.0</td>\n",
              "    </tr>\n",
              "    <tr>\n",
              "      <th>f4</th>\n",
              "      <td>50000.0</td>\n",
              "      <td>4.949580e+00</td>\n",
              "      <td>311.302315</td>\n",
              "      <td>0.0</td>\n",
              "      <td>0.00</td>\n",
              "      <td>0.0</td>\n",
              "      <td>2.0</td>\n",
              "      <td>66683.0</td>\n",
              "    </tr>\n",
              "    <tr>\n",
              "      <th>f5</th>\n",
              "      <td>50000.0</td>\n",
              "      <td>9.718000e-02</td>\n",
              "      <td>0.437058</td>\n",
              "      <td>0.0</td>\n",
              "      <td>0.00</td>\n",
              "      <td>0.0</td>\n",
              "      <td>0.0</td>\n",
              "      <td>19.0</td>\n",
              "    </tr>\n",
              "    <tr>\n",
              "      <th>f6</th>\n",
              "      <td>50000.0</td>\n",
              "      <td>5.502000e-02</td>\n",
              "      <td>0.275743</td>\n",
              "      <td>0.0</td>\n",
              "      <td>0.00</td>\n",
              "      <td>0.0</td>\n",
              "      <td>0.0</td>\n",
              "      <td>7.0</td>\n",
              "    </tr>\n",
              "    <tr>\n",
              "      <th>f7</th>\n",
              "      <td>50000.0</td>\n",
              "      <td>8.501107e+02</td>\n",
              "      <td>100663.142362</td>\n",
              "      <td>0.0</td>\n",
              "      <td>1.00</td>\n",
              "      <td>6.0</td>\n",
              "      <td>29.0</td>\n",
              "      <td>22435780.0</td>\n",
              "    </tr>\n",
              "    <tr>\n",
              "      <th>f8</th>\n",
              "      <td>50000.0</td>\n",
              "      <td>7.005124e+02</td>\n",
              "      <td>7886.279322</td>\n",
              "      <td>0.0</td>\n",
              "      <td>9.00</td>\n",
              "      <td>41.0</td>\n",
              "      <td>217.0</td>\n",
              "      <td>498925.0</td>\n",
              "    </tr>\n",
              "    <tr>\n",
              "      <th>f9</th>\n",
              "      <td>50000.0</td>\n",
              "      <td>7.293860e+00</td>\n",
              "      <td>181.266200</td>\n",
              "      <td>0.0</td>\n",
              "      <td>0.00</td>\n",
              "      <td>0.0</td>\n",
              "      <td>0.0</td>\n",
              "      <td>21319.0</td>\n",
              "    </tr>\n",
              "    <tr>\n",
              "      <th>f10</th>\n",
              "      <td>50000.0</td>\n",
              "      <td>7.200000e-04</td>\n",
              "      <td>0.039994</td>\n",
              "      <td>0.0</td>\n",
              "      <td>0.00</td>\n",
              "      <td>0.0</td>\n",
              "      <td>0.0</td>\n",
              "      <td>4.0</td>\n",
              "    </tr>\n",
              "    <tr>\n",
              "      <th>f11</th>\n",
              "      <td>50000.0</td>\n",
              "      <td>1.400000e-04</td>\n",
              "      <td>0.011831</td>\n",
              "      <td>0.0</td>\n",
              "      <td>0.00</td>\n",
              "      <td>0.0</td>\n",
              "      <td>0.0</td>\n",
              "      <td>1.0</td>\n",
              "    </tr>\n",
              "    <tr>\n",
              "      <th>f12</th>\n",
              "      <td>50000.0</td>\n",
              "      <td>1.845186e+02</td>\n",
              "      <td>9017.809070</td>\n",
              "      <td>0.0</td>\n",
              "      <td>0.00</td>\n",
              "      <td>0.0</td>\n",
              "      <td>6.0</td>\n",
              "      <td>989972.0</td>\n",
              "    </tr>\n",
              "    <tr>\n",
              "      <th>f13</th>\n",
              "      <td>50000.0</td>\n",
              "      <td>3.373800e-01</td>\n",
              "      <td>7.757683</td>\n",
              "      <td>0.0</td>\n",
              "      <td>0.00</td>\n",
              "      <td>0.0</td>\n",
              "      <td>0.0</td>\n",
              "      <td>936.0</td>\n",
              "    </tr>\n",
              "    <tr>\n",
              "      <th>f14</th>\n",
              "      <td>50000.0</td>\n",
              "      <td>9.390000e-02</td>\n",
              "      <td>0.739198</td>\n",
              "      <td>0.0</td>\n",
              "      <td>0.00</td>\n",
              "      <td>0.0</td>\n",
              "      <td>0.0</td>\n",
              "      <td>40.0</td>\n",
              "    </tr>\n",
              "    <tr>\n",
              "      <th>f15</th>\n",
              "      <td>50000.0</td>\n",
              "      <td>9.134000e-02</td>\n",
              "      <td>4.864589</td>\n",
              "      <td>0.0</td>\n",
              "      <td>0.00</td>\n",
              "      <td>0.0</td>\n",
              "      <td>0.0</td>\n",
              "      <td>885.0</td>\n",
              "    </tr>\n",
              "    <tr>\n",
              "      <th>f16</th>\n",
              "      <td>50000.0</td>\n",
              "      <td>0.000000e+00</td>\n",
              "      <td>0.000000</td>\n",
              "      <td>0.0</td>\n",
              "      <td>0.00</td>\n",
              "      <td>0.0</td>\n",
              "      <td>0.0</td>\n",
              "      <td>0.0</td>\n",
              "    </tr>\n",
              "    <tr>\n",
              "      <th>f17</th>\n",
              "      <td>50000.0</td>\n",
              "      <td>9.134000e-02</td>\n",
              "      <td>4.864589</td>\n",
              "      <td>0.0</td>\n",
              "      <td>0.00</td>\n",
              "      <td>0.0</td>\n",
              "      <td>0.0</td>\n",
              "      <td>885.0</td>\n",
              "    </tr>\n",
              "    <tr>\n",
              "      <th>f18</th>\n",
              "      <td>50000.0</td>\n",
              "      <td>8.259200e-01</td>\n",
              "      <td>3.794589</td>\n",
              "      <td>0.0</td>\n",
              "      <td>0.00</td>\n",
              "      <td>0.0</td>\n",
              "      <td>0.0</td>\n",
              "      <td>211.0</td>\n",
              "    </tr>\n",
              "    <tr>\n",
              "      <th>f19</th>\n",
              "      <td>50000.0</td>\n",
              "      <td>1.124148e+01</td>\n",
              "      <td>1393.891975</td>\n",
              "      <td>0.0</td>\n",
              "      <td>0.00</td>\n",
              "      <td>0.0</td>\n",
              "      <td>0.0</td>\n",
              "      <td>205859.0</td>\n",
              "    </tr>\n",
              "    <tr>\n",
              "      <th>f20</th>\n",
              "      <td>50000.0</td>\n",
              "      <td>5.272800e-01</td>\n",
              "      <td>79.626193</td>\n",
              "      <td>0.0</td>\n",
              "      <td>0.00</td>\n",
              "      <td>0.0</td>\n",
              "      <td>0.0</td>\n",
              "      <td>16454.0</td>\n",
              "    </tr>\n",
              "    <tr>\n",
              "      <th>f21</th>\n",
              "      <td>50000.0</td>\n",
              "      <td>4.106220e+00</td>\n",
              "      <td>73.522097</td>\n",
              "      <td>0.0</td>\n",
              "      <td>0.00</td>\n",
              "      <td>0.0</td>\n",
              "      <td>0.0</td>\n",
              "      <td>9791.0</td>\n",
              "    </tr>\n",
              "    <tr>\n",
              "      <th>f22</th>\n",
              "      <td>50000.0</td>\n",
              "      <td>1.559380e+00</td>\n",
              "      <td>6.156446</td>\n",
              "      <td>0.0</td>\n",
              "      <td>0.00</td>\n",
              "      <td>0.0</td>\n",
              "      <td>1.0</td>\n",
              "      <td>142.0</td>\n",
              "    </tr>\n",
              "    <tr>\n",
              "      <th>f23</th>\n",
              "      <td>50000.0</td>\n",
              "      <td>4.429800e+00</td>\n",
              "      <td>16.492674</td>\n",
              "      <td>0.0</td>\n",
              "      <td>0.00</td>\n",
              "      <td>1.0</td>\n",
              "      <td>3.0</td>\n",
              "      <td>439.0</td>\n",
              "    </tr>\n",
              "    <tr>\n",
              "      <th>f24</th>\n",
              "      <td>50000.0</td>\n",
              "      <td>2.600000e-04</td>\n",
              "      <td>0.016123</td>\n",
              "      <td>0.0</td>\n",
              "      <td>0.00</td>\n",
              "      <td>0.0</td>\n",
              "      <td>0.0</td>\n",
              "      <td>1.0</td>\n",
              "    </tr>\n",
              "    <tr>\n",
              "      <th>f25</th>\n",
              "      <td>50000.0</td>\n",
              "      <td>1.380000e-03</td>\n",
              "      <td>0.048354</td>\n",
              "      <td>0.0</td>\n",
              "      <td>0.00</td>\n",
              "      <td>0.0</td>\n",
              "      <td>0.0</td>\n",
              "      <td>3.0</td>\n",
              "    </tr>\n",
              "    <tr>\n",
              "      <th>f26</th>\n",
              "      <td>50000.0</td>\n",
              "      <td>1.320000e-03</td>\n",
              "      <td>0.040967</td>\n",
              "      <td>0.0</td>\n",
              "      <td>0.00</td>\n",
              "      <td>0.0</td>\n",
              "      <td>0.0</td>\n",
              "      <td>2.0</td>\n",
              "    </tr>\n",
              "    <tr>\n",
              "      <th>f27</th>\n",
              "      <td>50000.0</td>\n",
              "      <td>5.800000e-04</td>\n",
              "      <td>0.034924</td>\n",
              "      <td>0.0</td>\n",
              "      <td>0.00</td>\n",
              "      <td>0.0</td>\n",
              "      <td>0.0</td>\n",
              "      <td>3.0</td>\n",
              "    </tr>\n",
              "    <tr>\n",
              "      <th>f28</th>\n",
              "      <td>50000.0</td>\n",
              "      <td>2.400000e-04</td>\n",
              "      <td>0.015490</td>\n",
              "      <td>0.0</td>\n",
              "      <td>0.00</td>\n",
              "      <td>0.0</td>\n",
              "      <td>0.0</td>\n",
              "      <td>1.0</td>\n",
              "    </tr>\n",
              "  </tbody>\n",
              "</table>\n",
              "</div>"
            ],
            "text/plain": [
              "         count          mean            std  ...        50%        75%         max\n",
              "label  50000.0  2.684400e-01       0.443152  ...        0.0        1.0         1.0\n",
              "f1     50000.0  4.489459e+06  721162.091909  ...  4627590.5  4992968.0   7126222.0\n",
              "f2     50000.0  1.528918e+04  602282.866345  ...       69.0      186.0  59764357.0\n",
              "f3     50000.0  2.093005e+03   54547.546789  ...       16.0       28.0   9613889.0\n",
              "f4     50000.0  4.949580e+00     311.302315  ...        0.0        2.0     66683.0\n",
              "f5     50000.0  9.718000e-02       0.437058  ...        0.0        0.0        19.0\n",
              "f6     50000.0  5.502000e-02       0.275743  ...        0.0        0.0         7.0\n",
              "f7     50000.0  8.501107e+02  100663.142362  ...        6.0       29.0  22435780.0\n",
              "f8     50000.0  7.005124e+02    7886.279322  ...       41.0      217.0    498925.0\n",
              "f9     50000.0  7.293860e+00     181.266200  ...        0.0        0.0     21319.0\n",
              "f10    50000.0  7.200000e-04       0.039994  ...        0.0        0.0         4.0\n",
              "f11    50000.0  1.400000e-04       0.011831  ...        0.0        0.0         1.0\n",
              "f12    50000.0  1.845186e+02    9017.809070  ...        0.0        6.0    989972.0\n",
              "f13    50000.0  3.373800e-01       7.757683  ...        0.0        0.0       936.0\n",
              "f14    50000.0  9.390000e-02       0.739198  ...        0.0        0.0        40.0\n",
              "f15    50000.0  9.134000e-02       4.864589  ...        0.0        0.0       885.0\n",
              "f16    50000.0  0.000000e+00       0.000000  ...        0.0        0.0         0.0\n",
              "f17    50000.0  9.134000e-02       4.864589  ...        0.0        0.0       885.0\n",
              "f18    50000.0  8.259200e-01       3.794589  ...        0.0        0.0       211.0\n",
              "f19    50000.0  1.124148e+01    1393.891975  ...        0.0        0.0    205859.0\n",
              "f20    50000.0  5.272800e-01      79.626193  ...        0.0        0.0     16454.0\n",
              "f21    50000.0  4.106220e+00      73.522097  ...        0.0        0.0      9791.0\n",
              "f22    50000.0  1.559380e+00       6.156446  ...        0.0        1.0       142.0\n",
              "f23    50000.0  4.429800e+00      16.492674  ...        1.0        3.0       439.0\n",
              "f24    50000.0  2.600000e-04       0.016123  ...        0.0        0.0         1.0\n",
              "f25    50000.0  1.380000e-03       0.048354  ...        0.0        0.0         3.0\n",
              "f26    50000.0  1.320000e-03       0.040967  ...        0.0        0.0         2.0\n",
              "f27    50000.0  5.800000e-04       0.034924  ...        0.0        0.0         3.0\n",
              "f28    50000.0  2.400000e-04       0.015490  ...        0.0        0.0         1.0\n",
              "\n",
              "[29 rows x 8 columns]"
            ]
          },
          "metadata": {
            "tags": []
          },
          "execution_count": 56
        }
      ]
    },
    {
      "cell_type": "code",
      "metadata": {
        "colab": {
          "base_uri": "https://localhost:8080/",
          "height": 204
        },
        "id": "b97YL_Vevhvz",
        "outputId": "097bdfd4-8d63-482a-abf7-6bc4a671c529"
      },
      "source": [
        "input_data.head()"
      ],
      "execution_count": null,
      "outputs": [
        {
          "output_type": "execute_result",
          "data": {
            "text/html": [
              "<div>\n",
              "<style scoped>\n",
              "    .dataframe tbody tr th:only-of-type {\n",
              "        vertical-align: middle;\n",
              "    }\n",
              "\n",
              "    .dataframe tbody tr th {\n",
              "        vertical-align: top;\n",
              "    }\n",
              "\n",
              "    .dataframe thead th {\n",
              "        text-align: right;\n",
              "    }\n",
              "</style>\n",
              "<table border=\"1\" class=\"dataframe\">\n",
              "  <thead>\n",
              "    <tr style=\"text-align: right;\">\n",
              "      <th></th>\n",
              "      <th>label</th>\n",
              "      <th>f1</th>\n",
              "      <th>f2</th>\n",
              "      <th>f3</th>\n",
              "      <th>f4</th>\n",
              "      <th>f5</th>\n",
              "      <th>f6</th>\n",
              "      <th>f7</th>\n",
              "      <th>f8</th>\n",
              "      <th>f9</th>\n",
              "      <th>f10</th>\n",
              "      <th>f11</th>\n",
              "      <th>f12</th>\n",
              "      <th>f13</th>\n",
              "      <th>f14</th>\n",
              "      <th>f15</th>\n",
              "      <th>f16</th>\n",
              "      <th>f17</th>\n",
              "      <th>f18</th>\n",
              "      <th>f19</th>\n",
              "      <th>f20</th>\n",
              "      <th>f21</th>\n",
              "      <th>f22</th>\n",
              "      <th>f23</th>\n",
              "      <th>f24</th>\n",
              "      <th>f25</th>\n",
              "      <th>f26</th>\n",
              "      <th>f27</th>\n",
              "      <th>f28</th>\n",
              "    </tr>\n",
              "  </thead>\n",
              "  <tbody>\n",
              "    <tr>\n",
              "      <th>0</th>\n",
              "      <td>1</td>\n",
              "      <td>4438827</td>\n",
              "      <td>2858</td>\n",
              "      <td>95</td>\n",
              "      <td>20</td>\n",
              "      <td>0</td>\n",
              "      <td>1</td>\n",
              "      <td>0</td>\n",
              "      <td>790</td>\n",
              "      <td>1</td>\n",
              "      <td>0</td>\n",
              "      <td>0</td>\n",
              "      <td>53</td>\n",
              "      <td>0</td>\n",
              "      <td>1</td>\n",
              "      <td>0</td>\n",
              "      <td>0</td>\n",
              "      <td>0</td>\n",
              "      <td>0</td>\n",
              "      <td>0</td>\n",
              "      <td>0</td>\n",
              "      <td>0</td>\n",
              "      <td>9</td>\n",
              "      <td>3</td>\n",
              "      <td>0</td>\n",
              "      <td>0</td>\n",
              "      <td>0</td>\n",
              "      <td>0</td>\n",
              "      <td>0</td>\n",
              "    </tr>\n",
              "    <tr>\n",
              "      <th>1</th>\n",
              "      <td>1</td>\n",
              "      <td>4145089</td>\n",
              "      <td>4728</td>\n",
              "      <td>199</td>\n",
              "      <td>10</td>\n",
              "      <td>0</td>\n",
              "      <td>0</td>\n",
              "      <td>6</td>\n",
              "      <td>1821</td>\n",
              "      <td>0</td>\n",
              "      <td>0</td>\n",
              "      <td>0</td>\n",
              "      <td>45</td>\n",
              "      <td>0</td>\n",
              "      <td>0</td>\n",
              "      <td>0</td>\n",
              "      <td>0</td>\n",
              "      <td>0</td>\n",
              "      <td>0</td>\n",
              "      <td>0</td>\n",
              "      <td>0</td>\n",
              "      <td>0</td>\n",
              "      <td>1</td>\n",
              "      <td>1</td>\n",
              "      <td>0</td>\n",
              "      <td>0</td>\n",
              "      <td>0</td>\n",
              "      <td>0</td>\n",
              "      <td>0</td>\n",
              "    </tr>\n",
              "    <tr>\n",
              "      <th>2</th>\n",
              "      <td>1</td>\n",
              "      <td>4409677</td>\n",
              "      <td>1240</td>\n",
              "      <td>35</td>\n",
              "      <td>6</td>\n",
              "      <td>0</td>\n",
              "      <td>0</td>\n",
              "      <td>0</td>\n",
              "      <td>132</td>\n",
              "      <td>1</td>\n",
              "      <td>0</td>\n",
              "      <td>0</td>\n",
              "      <td>6</td>\n",
              "      <td>0</td>\n",
              "      <td>0</td>\n",
              "      <td>0</td>\n",
              "      <td>0</td>\n",
              "      <td>0</td>\n",
              "      <td>0</td>\n",
              "      <td>0</td>\n",
              "      <td>0</td>\n",
              "      <td>0</td>\n",
              "      <td>2</td>\n",
              "      <td>0</td>\n",
              "      <td>0</td>\n",
              "      <td>0</td>\n",
              "      <td>0</td>\n",
              "      <td>0</td>\n",
              "      <td>0</td>\n",
              "    </tr>\n",
              "    <tr>\n",
              "      <th>3</th>\n",
              "      <td>1</td>\n",
              "      <td>4705142</td>\n",
              "      <td>6249</td>\n",
              "      <td>152</td>\n",
              "      <td>7</td>\n",
              "      <td>0</td>\n",
              "      <td>0</td>\n",
              "      <td>10</td>\n",
              "      <td>269</td>\n",
              "      <td>0</td>\n",
              "      <td>0</td>\n",
              "      <td>0</td>\n",
              "      <td>20</td>\n",
              "      <td>0</td>\n",
              "      <td>0</td>\n",
              "      <td>0</td>\n",
              "      <td>0</td>\n",
              "      <td>0</td>\n",
              "      <td>0</td>\n",
              "      <td>0</td>\n",
              "      <td>0</td>\n",
              "      <td>0</td>\n",
              "      <td>1</td>\n",
              "      <td>1</td>\n",
              "      <td>0</td>\n",
              "      <td>0</td>\n",
              "      <td>0</td>\n",
              "      <td>0</td>\n",
              "      <td>0</td>\n",
              "    </tr>\n",
              "    <tr>\n",
              "      <th>4</th>\n",
              "      <td>1</td>\n",
              "      <td>4424842</td>\n",
              "      <td>4446</td>\n",
              "      <td>78</td>\n",
              "      <td>21</td>\n",
              "      <td>0</td>\n",
              "      <td>0</td>\n",
              "      <td>0</td>\n",
              "      <td>615</td>\n",
              "      <td>1</td>\n",
              "      <td>0</td>\n",
              "      <td>0</td>\n",
              "      <td>28</td>\n",
              "      <td>0</td>\n",
              "      <td>0</td>\n",
              "      <td>0</td>\n",
              "      <td>0</td>\n",
              "      <td>0</td>\n",
              "      <td>0</td>\n",
              "      <td>0</td>\n",
              "      <td>0</td>\n",
              "      <td>0</td>\n",
              "      <td>3</td>\n",
              "      <td>3</td>\n",
              "      <td>0</td>\n",
              "      <td>0</td>\n",
              "      <td>0</td>\n",
              "      <td>0</td>\n",
              "      <td>0</td>\n",
              "    </tr>\n",
              "  </tbody>\n",
              "</table>\n",
              "</div>"
            ],
            "text/plain": [
              "   label       f1    f2   f3  f4  f5  f6  ...  f22  f23  f24  f25  f26  f27  f28\n",
              "0      1  4438827  2858   95  20   0   1  ...    9    3    0    0    0    0    0\n",
              "1      1  4145089  4728  199  10   0   0  ...    1    1    0    0    0    0    0\n",
              "2      1  4409677  1240   35   6   0   0  ...    2    0    0    0    0    0    0\n",
              "3      1  4705142  6249  152   7   0   0  ...    1    1    0    0    0    0    0\n",
              "4      1  4424842  4446   78  21   0   0  ...    3    3    0    0    0    0    0\n",
              "\n",
              "[5 rows x 29 columns]"
            ]
          },
          "metadata": {
            "tags": []
          },
          "execution_count": 18
        }
      ]
    },
    {
      "cell_type": "code",
      "metadata": {
        "colab": {
          "base_uri": "https://localhost:8080/"
        },
        "id": "i6X7QVNivNA3",
        "outputId": "8ef2245d-9e0e-41fc-f6ab-f4b442f86a0f"
      },
      "source": [
        "for col in input_data.columns:\n",
        "  percentage_null = (input_data[col]==0).mean()\n",
        "  print(col, percentage_null)"
      ],
      "execution_count": null,
      "outputs": [
        {
          "output_type": "stream",
          "text": [
            "label 0.73156\n",
            "f1 0.00072\n",
            "f2 0.00448\n",
            "f3 0.00458\n",
            "f4 0.57428\n",
            "f5 0.9373\n",
            "f6 0.95186\n",
            "f7 0.22744\n",
            "f8 0.01978\n",
            "f9 0.86586\n",
            "f10 0.99958\n",
            "f11 0.99986\n",
            "f12 0.57428\n",
            "f13 0.9373\n",
            "f14 0.95186\n",
            "f15 0.96314\n",
            "f16 1.0\n",
            "f17 0.96314\n",
            "f18 0.8682\n",
            "f19 0.93682\n",
            "f20 0.99522\n",
            "f21 0.96558\n",
            "f22 0.6979\n",
            "f23 0.4012\n",
            "f24 0.99974\n",
            "f25 0.99898\n",
            "f26 0.99886\n",
            "f27 0.99964\n",
            "f28 0.99976\n"
          ],
          "name": "stdout"
        }
      ]
    },
    {
      "cell_type": "markdown",
      "metadata": {
        "id": "dZAp8cK2xdSi"
      },
      "source": [
        "Lot of them are zeros somehting to remember"
      ]
    },
    {
      "cell_type": "code",
      "metadata": {
        "id": "OD4UteTUxa8w"
      },
      "source": [
        "##data is imbalanced"
      ],
      "execution_count": null,
      "outputs": []
    },
    {
      "cell_type": "code",
      "metadata": {
        "colab": {
          "base_uri": "https://localhost:8080/"
        },
        "id": "PzpC4GpwwOZ2",
        "outputId": "e615a78f-ba67-4b13-941b-033ab8472f09"
      },
      "source": [
        "\n",
        "input_data['label'].value_counts(normalize=True)"
      ],
      "execution_count": null,
      "outputs": [
        {
          "output_type": "execute_result",
          "data": {
            "text/plain": [
              "0    0.73156\n",
              "1    0.26844\n",
              "Name: label, dtype: float64"
            ]
          },
          "metadata": {
            "tags": []
          },
          "execution_count": 31
        }
      ]
    },
    {
      "cell_type": "code",
      "metadata": {
        "id": "tKNyvPtBwZQu"
      },
      "source": [
        "\n",
        "features = input_data.columns.tolist()\n",
        "features.remove('label')"
      ],
      "execution_count": null,
      "outputs": []
    },
    {
      "cell_type": "code",
      "metadata": {
        "id": "2B-2qF2Bwi-X"
      },
      "source": [
        "correlation_details = input_data[features].corr().abs()"
      ],
      "execution_count": null,
      "outputs": []
    },
    {
      "cell_type": "code",
      "metadata": {
        "id": "YLCTZJUfwpO8"
      },
      "source": [
        "# Select upper triangle of correlation matrix\n",
        "upper = correlation_details.where(np.triu(np.ones(correlation_details.shape), k=1).astype(np.bool))\n",
        "\n",
        "# Find features with correlation greater than 0.95\n",
        "to_drop = [column for column in upper.columns if any(upper[column] > 0.70)]"
      ],
      "execution_count": null,
      "outputs": []
    },
    {
      "cell_type": "code",
      "metadata": {
        "colab": {
          "base_uri": "https://localhost:8080/"
        },
        "id": "H7xJ14ONxJ2P",
        "outputId": "ab6b109a-804d-4e47-8219-1c5882405d41"
      },
      "source": [
        "len(to_drop)"
      ],
      "execution_count": null,
      "outputs": [
        {
          "output_type": "execute_result",
          "data": {
            "text/plain": [
              "3"
            ]
          },
          "metadata": {
            "tags": []
          },
          "execution_count": 40
        }
      ]
    },
    {
      "cell_type": "markdown",
      "metadata": {
        "id": "3BVhwsGbxSkU"
      },
      "source": [
        "only three are correlated"
      ]
    },
    {
      "cell_type": "code",
      "metadata": {
        "id": "EatnWzfWykhN"
      },
      "source": [
        "# Using Skicit-learn to split data into training and testing sets\n",
        "from sklearn.model_selection import train_test_split\n",
        "x_train,x_test, y_train, y_test = train_test_split(input_data[features], input_data['label'], test_size = 0.25, random_state = 42)"
      ],
      "execution_count": null,
      "outputs": []
    },
    {
      "cell_type": "code",
      "metadata": {
        "id": "oOFEFeY-yvNi"
      },
      "source": [
        "\n",
        "# Import the model we are using\n",
        "from sklearn.ensemble import RandomForestClassifier\n",
        "# Instantiate model with 1000 decision trees\n",
        "rf = RandomForestClassifier(n_estimators = 1000, random_state = 42,max_depth=6)\n",
        "# Train the model on training data\n",
        "rf.fit(x_train, y_train);"
      ],
      "execution_count": null,
      "outputs": []
    },
    {
      "cell_type": "code",
      "metadata": {
        "id": "bHNXJwwI0uOc"
      },
      "source": [
        "from sklearn.metrics import classification_report"
      ],
      "execution_count": null,
      "outputs": []
    },
    {
      "cell_type": "code",
      "metadata": {
        "id": "BrK3y8BK5arz"
      },
      "source": [
        "from sklearn.linear_model import LogisticRegression\n",
        "from sklearn.metrics import classification_report, confusion_matrix"
      ],
      "execution_count": null,
      "outputs": []
    },
    {
      "cell_type": "code",
      "metadata": {
        "colab": {
          "base_uri": "https://localhost:8080/"
        },
        "id": "Dl_fKaS95cRo",
        "outputId": "e48f3083-65f1-4594-ceb8-59b65e2add5b"
      },
      "source": [
        "\n",
        "confusion_matrix(y_test,rf.predict(x_test))"
      ],
      "execution_count": null,
      "outputs": [
        {
          "output_type": "execute_result",
          "data": {
            "text/plain": [
              "array([[9117,   23],\n",
              "       [ 257, 3103]])"
            ]
          },
          "metadata": {
            "tags": []
          },
          "execution_count": 61
        }
      ]
    },
    {
      "cell_type": "code",
      "metadata": {
        "colab": {
          "base_uri": "https://localhost:8080/"
        },
        "id": "-CZWOp1204ho",
        "outputId": "d4cafd9f-054b-40de-e4ee-5dc08ce0d55b"
      },
      "source": [
        "print(classification_report(y_test,rf.predict(x_test)))"
      ],
      "execution_count": null,
      "outputs": [
        {
          "output_type": "stream",
          "text": [
            "              precision    recall  f1-score   support\n",
            "\n",
            "           0       0.97      1.00      0.98      9140\n",
            "           1       0.99      0.92      0.96      3360\n",
            "\n",
            "    accuracy                           0.98     12500\n",
            "   macro avg       0.98      0.96      0.97     12500\n",
            "weighted avg       0.98      0.98      0.98     12500\n",
            "\n"
          ],
          "name": "stdout"
        }
      ]
    },
    {
      "cell_type": "code",
      "metadata": {
        "colab": {
          "base_uri": "https://localhost:8080/"
        },
        "id": "8ofZAHRZ1NW8",
        "outputId": "78c6e4b3-6a50-4730-9464-5db039ce9c06"
      },
      "source": [
        "print(classification_report(y_train,rf.predict(x_train)))"
      ],
      "execution_count": null,
      "outputs": [
        {
          "output_type": "stream",
          "text": [
            "              precision    recall  f1-score   support\n",
            "\n",
            "           0       0.97      1.00      0.98     27438\n",
            "           1       0.99      0.92      0.95     10062\n",
            "\n",
            "    accuracy                           0.98     37500\n",
            "   macro avg       0.98      0.96      0.97     37500\n",
            "weighted avg       0.98      0.98      0.98     37500\n",
            "\n"
          ],
          "name": "stdout"
        }
      ]
    },
    {
      "cell_type": "code",
      "metadata": {
        "colab": {
          "base_uri": "https://localhost:8080/",
          "height": 917
        },
        "id": "r4degV0z2Hui",
        "outputId": "81cbfaeb-89a9-4548-d545-e82955131c85"
      },
      "source": [
        "feature_imp_df = pd.DataFrame(data={'features':features,'imp':rf.feature_importances_})\n",
        "feature_imp_df.sort_values(by='imp',ascending=False)"
      ],
      "execution_count": null,
      "outputs": [
        {
          "output_type": "execute_result",
          "data": {
            "text/html": [
              "<div>\n",
              "<style scoped>\n",
              "    .dataframe tbody tr th:only-of-type {\n",
              "        vertical-align: middle;\n",
              "    }\n",
              "\n",
              "    .dataframe tbody tr th {\n",
              "        vertical-align: top;\n",
              "    }\n",
              "\n",
              "    .dataframe thead th {\n",
              "        text-align: right;\n",
              "    }\n",
              "</style>\n",
              "<table border=\"1\" class=\"dataframe\">\n",
              "  <thead>\n",
              "    <tr style=\"text-align: right;\">\n",
              "      <th></th>\n",
              "      <th>features</th>\n",
              "      <th>imp</th>\n",
              "    </tr>\n",
              "  </thead>\n",
              "  <tbody>\n",
              "    <tr>\n",
              "      <th>1</th>\n",
              "      <td>f2</td>\n",
              "      <td>0.222059</td>\n",
              "    </tr>\n",
              "    <tr>\n",
              "      <th>3</th>\n",
              "      <td>f4</td>\n",
              "      <td>0.147915</td>\n",
              "    </tr>\n",
              "    <tr>\n",
              "      <th>2</th>\n",
              "      <td>f3</td>\n",
              "      <td>0.118117</td>\n",
              "    </tr>\n",
              "    <tr>\n",
              "      <th>18</th>\n",
              "      <td>f19</td>\n",
              "      <td>0.099425</td>\n",
              "    </tr>\n",
              "    <tr>\n",
              "      <th>17</th>\n",
              "      <td>f18</td>\n",
              "      <td>0.074102</td>\n",
              "    </tr>\n",
              "    <tr>\n",
              "      <th>11</th>\n",
              "      <td>f12</td>\n",
              "      <td>0.060686</td>\n",
              "    </tr>\n",
              "    <tr>\n",
              "      <th>6</th>\n",
              "      <td>f7</td>\n",
              "      <td>0.056225</td>\n",
              "    </tr>\n",
              "    <tr>\n",
              "      <th>7</th>\n",
              "      <td>f8</td>\n",
              "      <td>0.052232</td>\n",
              "    </tr>\n",
              "    <tr>\n",
              "      <th>22</th>\n",
              "      <td>f23</td>\n",
              "      <td>0.037954</td>\n",
              "    </tr>\n",
              "    <tr>\n",
              "      <th>21</th>\n",
              "      <td>f22</td>\n",
              "      <td>0.035318</td>\n",
              "    </tr>\n",
              "    <tr>\n",
              "      <th>0</th>\n",
              "      <td>f1</td>\n",
              "      <td>0.028174</td>\n",
              "    </tr>\n",
              "    <tr>\n",
              "      <th>8</th>\n",
              "      <td>f9</td>\n",
              "      <td>0.023917</td>\n",
              "    </tr>\n",
              "    <tr>\n",
              "      <th>4</th>\n",
              "      <td>f5</td>\n",
              "      <td>0.009939</td>\n",
              "    </tr>\n",
              "    <tr>\n",
              "      <th>12</th>\n",
              "      <td>f13</td>\n",
              "      <td>0.009595</td>\n",
              "    </tr>\n",
              "    <tr>\n",
              "      <th>13</th>\n",
              "      <td>f14</td>\n",
              "      <td>0.006040</td>\n",
              "    </tr>\n",
              "    <tr>\n",
              "      <th>5</th>\n",
              "      <td>f6</td>\n",
              "      <td>0.005798</td>\n",
              "    </tr>\n",
              "    <tr>\n",
              "      <th>16</th>\n",
              "      <td>f17</td>\n",
              "      <td>0.004724</td>\n",
              "    </tr>\n",
              "    <tr>\n",
              "      <th>14</th>\n",
              "      <td>f15</td>\n",
              "      <td>0.004300</td>\n",
              "    </tr>\n",
              "    <tr>\n",
              "      <th>20</th>\n",
              "      <td>f21</td>\n",
              "      <td>0.002920</td>\n",
              "    </tr>\n",
              "    <tr>\n",
              "      <th>19</th>\n",
              "      <td>f20</td>\n",
              "      <td>0.000192</td>\n",
              "    </tr>\n",
              "    <tr>\n",
              "      <th>24</th>\n",
              "      <td>f25</td>\n",
              "      <td>0.000107</td>\n",
              "    </tr>\n",
              "    <tr>\n",
              "      <th>25</th>\n",
              "      <td>f26</td>\n",
              "      <td>0.000105</td>\n",
              "    </tr>\n",
              "    <tr>\n",
              "      <th>26</th>\n",
              "      <td>f27</td>\n",
              "      <td>0.000083</td>\n",
              "    </tr>\n",
              "    <tr>\n",
              "      <th>27</th>\n",
              "      <td>f28</td>\n",
              "      <td>0.000024</td>\n",
              "    </tr>\n",
              "    <tr>\n",
              "      <th>9</th>\n",
              "      <td>f10</td>\n",
              "      <td>0.000022</td>\n",
              "    </tr>\n",
              "    <tr>\n",
              "      <th>23</th>\n",
              "      <td>f24</td>\n",
              "      <td>0.000020</td>\n",
              "    </tr>\n",
              "    <tr>\n",
              "      <th>10</th>\n",
              "      <td>f11</td>\n",
              "      <td>0.000008</td>\n",
              "    </tr>\n",
              "    <tr>\n",
              "      <th>15</th>\n",
              "      <td>f16</td>\n",
              "      <td>0.000000</td>\n",
              "    </tr>\n",
              "  </tbody>\n",
              "</table>\n",
              "</div>"
            ],
            "text/plain": [
              "   features       imp\n",
              "1        f2  0.222059\n",
              "3        f4  0.147915\n",
              "2        f3  0.118117\n",
              "18      f19  0.099425\n",
              "17      f18  0.074102\n",
              "11      f12  0.060686\n",
              "6        f7  0.056225\n",
              "7        f8  0.052232\n",
              "22      f23  0.037954\n",
              "21      f22  0.035318\n",
              "0        f1  0.028174\n",
              "8        f9  0.023917\n",
              "4        f5  0.009939\n",
              "12      f13  0.009595\n",
              "13      f14  0.006040\n",
              "5        f6  0.005798\n",
              "16      f17  0.004724\n",
              "14      f15  0.004300\n",
              "20      f21  0.002920\n",
              "19      f20  0.000192\n",
              "24      f25  0.000107\n",
              "25      f26  0.000105\n",
              "26      f27  0.000083\n",
              "27      f28  0.000024\n",
              "9       f10  0.000022\n",
              "23      f24  0.000020\n",
              "10      f11  0.000008\n",
              "15      f16  0.000000"
            ]
          },
          "metadata": {
            "tags": []
          },
          "execution_count": 54
        }
      ]
    },
    {
      "cell_type": "code",
      "metadata": {
        "colab": {
          "base_uri": "https://localhost:8080/"
        },
        "id": "et0lSrIj50j6",
        "outputId": "e0426dab-1dba-45b5-d9f6-c48e946b54d5"
      },
      "source": [
        "\n",
        "model = LogisticRegression(solver='liblinear', random_state=0)\n",
        "model.fit(x_train, y_train)\n",
        "y_pred =model.predict(x_test)\n",
        "print(classification_report(y_test,y_pred))"
      ],
      "execution_count": null,
      "outputs": [
        {
          "output_type": "stream",
          "text": [
            "              precision    recall  f1-score   support\n",
            "\n",
            "           0       0.73      1.00      0.84      9140\n",
            "           1       0.51      0.01      0.01      3360\n",
            "\n",
            "    accuracy                           0.73     12500\n",
            "   macro avg       0.62      0.50      0.43     12500\n",
            "weighted avg       0.67      0.73      0.62     12500\n",
            "\n"
          ],
          "name": "stdout"
        }
      ]
    }
  ]
}